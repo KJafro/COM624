{
 "cells": [
  {
   "cell_type": "code",
   "execution_count": 55,
   "id": "7383c1ee",
   "metadata": {},
   "outputs": [],
   "source": [
    "import numpy as np\n",
    "import pandas as pd\n",
    "from pandas import read_csv\n",
    "import matplotlib.pyplot as plt\n",
    "from sklearn import preprocessing\n",
    "from sklearn.impute import SimpleImputer\n",
    "from sklearn.metrics import mean_squared_error, mean_absolute_error, r2_score\n",
    "from sklearn.model_selection import train_test_split\n",
    "from sklearn.linear_model import LinearRegression\n",
    "from sklearn.metrics import accuracy_score, confusion_matrix, classification_report\n",
    "from pandas.plotting import scatter_matrix"
   ]
  },
  {
   "cell_type": "code",
   "execution_count": 2,
   "id": "16a6253c",
   "metadata": {},
   "outputs": [],
   "source": [
    "autompg_headers = ['mpg', 'cylinders', 'displacement', 'horsepower', 'weight', 'acceleration', 'model_year', 'origin', 'car_name']"
   ]
  },
  {
   "cell_type": "code",
   "execution_count": 5,
   "id": "e848b4bb",
   "metadata": {},
   "outputs": [],
   "source": [
    "autompg_data = read_csv('C:/dataset/auto_mpg_data.csv', names=autompg_headers)"
   ]
  },
  {
   "cell_type": "code",
   "execution_count": 6,
   "id": "7d07522b",
   "metadata": {},
   "outputs": [
    {
     "name": "stdout",
     "output_type": "stream",
     "text": [
      "    mpg  cylinders  displacement horsepower  weight  acceleration  model_year  \\\n",
      "0  18.0          8         307.0        130    3504          12.0          70   \n",
      "1  15.0          8         350.0        165    3693          11.5          70   \n",
      "2  18.0          8         318.0        150    3436          11.0          70   \n",
      "3  16.0          8         304.0        150    3433          12.0          70   \n",
      "4  17.0          8         302.0        140    3449          10.5          70   \n",
      "\n",
      "   origin                   car_name  \n",
      "0       1  chevrolet chevelle malibu  \n",
      "1       1          buick skylark 320  \n",
      "2       1         plymouth satellite  \n",
      "3       1              amc rebel sst  \n",
      "4       1                ford torino  \n"
     ]
    }
   ],
   "source": [
    "print (autompg_data.head(5))"
   ]
  },
  {
   "cell_type": "code",
   "execution_count": 7,
   "id": "f6b7eb65",
   "metadata": {},
   "outputs": [],
   "source": [
    "check_missing_data = autompg_data[autompg_data.isna().any(axis=1)]"
   ]
  },
  {
   "cell_type": "code",
   "execution_count": 8,
   "id": "7cdab1b3",
   "metadata": {},
   "outputs": [
    {
     "name": "stdout",
     "output_type": "stream",
     "text": [
      "Missing data \n",
      " Empty DataFrame\n",
      "Columns: [mpg, cylinders, displacement, horsepower, weight, acceleration, model_year, origin, car_name]\n",
      "Index: []\n"
     ]
    }
   ],
   "source": [
    "print('Missing data \\n', check_missing_data)"
   ]
  },
  {
   "cell_type": "code",
   "execution_count": 9,
   "id": "aa2887fa",
   "metadata": {},
   "outputs": [
    {
     "name": "stdout",
     "output_type": "stream",
     "text": [
      "<class 'pandas.core.frame.DataFrame'>\n",
      "RangeIndex: 398 entries, 0 to 397\n",
      "Data columns (total 9 columns):\n",
      " #   Column        Non-Null Count  Dtype  \n",
      "---  ------        --------------  -----  \n",
      " 0   mpg           398 non-null    float64\n",
      " 1   cylinders     398 non-null    int64  \n",
      " 2   displacement  398 non-null    float64\n",
      " 3   horsepower    398 non-null    object \n",
      " 4   weight        398 non-null    int64  \n",
      " 5   acceleration  398 non-null    float64\n",
      " 6   model_year    398 non-null    int64  \n",
      " 7   origin        398 non-null    int64  \n",
      " 8   car_name      398 non-null    object \n",
      "dtypes: float64(3), int64(4), object(2)\n",
      "memory usage: 28.1+ KB\n",
      "None\n"
     ]
    }
   ],
   "source": [
    "print(autompg_data.info())"
   ]
  },
  {
   "cell_type": "code",
   "execution_count": 10,
   "id": "b06eb972",
   "metadata": {},
   "outputs": [],
   "source": [
    "autompg_data['horsepower'] = pd.to_numeric(autompg_data['horsepower'], errors='coerce')"
   ]
  },
  {
   "cell_type": "code",
   "execution_count": 12,
   "id": "06d44626",
   "metadata": {},
   "outputs": [
    {
     "name": "stdout",
     "output_type": "stream",
     "text": [
      "Missing data after converting to float       mpg  cylinders  displacement  horsepower  weight  acceleration  \\\n",
      "32   25.0          4          98.0         NaN    2046          19.0   \n",
      "126  21.0          6         200.0         NaN    2875          17.0   \n",
      "330  40.9          4          85.0         NaN    1835          17.3   \n",
      "336  23.6          4         140.0         NaN    2905          14.3   \n",
      "354  34.5          4         100.0         NaN    2320          15.8   \n",
      "374  23.0          4         151.0         NaN    3035          20.5   \n",
      "\n",
      "     model_year  origin              car_name  \n",
      "32           71       1            ford pinto  \n",
      "126          74       1         ford maverick  \n",
      "330          80       2  renault lecar deluxe  \n",
      "336          80       1    ford mustang cobra  \n",
      "354          81       2           renault 18i  \n",
      "374          82       1        amc concord dl  \n"
     ]
    }
   ],
   "source": [
    "missing_data = autompg_data[autompg_data.isna().any(axis=1)]\n",
    "print('Missing data after converting to float', missing_data)"
   ]
  },
  {
   "cell_type": "code",
   "execution_count": 13,
   "id": "e41dcc16",
   "metadata": {},
   "outputs": [],
   "source": [
    "imputer = SimpleImputer(strategy='most_frequent')\n",
    "imputer.fit(autompg_data)\n",
    "new_data = imputer.transform(autompg_data)"
   ]
  },
  {
   "cell_type": "code",
   "execution_count": 14,
   "id": "5c98d021",
   "metadata": {},
   "outputs": [],
   "source": [
    "autompg_data = pd.DataFrame(data=new_data, columns=autompg_headers)"
   ]
  },
  {
   "cell_type": "code",
   "execution_count": 21,
   "id": "c3df53cb",
   "metadata": {},
   "outputs": [],
   "source": [
    "train_headers = ['cylinders', 'displacement', 'horsepower', 'weight', 'acceleration', 'model_year', 'origin', 'car_name']"
   ]
  },
  {
   "cell_type": "code",
   "execution_count": 22,
   "id": "95b0ca21",
   "metadata": {},
   "outputs": [],
   "source": [
    "target_header = ['mpg']"
   ]
  },
  {
   "cell_type": "code",
   "execution_count": 23,
   "id": "41700b9e",
   "metadata": {},
   "outputs": [],
   "source": [
    "x = autompg_data[train_headers]\n",
    "y = autompg_data[target_header]"
   ]
  },
  {
   "cell_type": "code",
   "execution_count": 39,
   "id": "046404f6",
   "metadata": {},
   "outputs": [],
   "source": [
    "x = autompg_data.iloc[:, 2].values.reshape((-1,1))"
   ]
  },
  {
   "cell_type": "code",
   "execution_count": 40,
   "id": "b559c837",
   "metadata": {},
   "outputs": [
    {
     "name": "stdout",
     "output_type": "stream",
     "text": [
      "X Dimension (398, 1)\n",
      "Y Dimension (398,)\n"
     ]
    }
   ],
   "source": [
    "print('X Dimension', x.shape)\n",
    "print('Y Dimension', y.shape)"
   ]
  },
  {
   "cell_type": "code",
   "execution_count": 41,
   "id": "02f6c913",
   "metadata": {},
   "outputs": [],
   "source": [
    "x_train, x_test, y_train, y_test = train_test_split(x, y, test_size=0.3, random_state=1)"
   ]
  },
  {
   "cell_type": "code",
   "execution_count": 42,
   "id": "31ce60f5",
   "metadata": {},
   "outputs": [
    {
     "name": "stdout",
     "output_type": "stream",
     "text": [
      "Total of Training Dataset (278, 1)\n",
      "Total of Test Dataset (120, 1)\n"
     ]
    }
   ],
   "source": [
    "print('Total of Training Dataset', x_train.shape)\n",
    "print('Total of Test Dataset', x_test.shape)"
   ]
  },
  {
   "cell_type": "code",
   "execution_count": 47,
   "id": "3cacf150",
   "metadata": {},
   "outputs": [],
   "source": [
    "lr_regress= LinearRegression()"
   ]
  },
  {
   "cell_type": "code",
   "execution_count": 48,
   "id": "52b920e0",
   "metadata": {},
   "outputs": [
    {
     "data": {
      "text/plain": [
       "LinearRegression()"
      ]
     },
     "execution_count": 48,
     "metadata": {},
     "output_type": "execute_result"
    }
   ],
   "source": [
    "lr_regress.fit(x_train, y_train)"
   ]
  },
  {
   "cell_type": "code",
   "execution_count": 49,
   "id": "0f8fa606",
   "metadata": {},
   "outputs": [],
   "source": [
    "y_pred = lr_regress.predict(x_test)"
   ]
  },
  {
   "cell_type": "code",
   "execution_count": 56,
   "id": "96517151",
   "metadata": {},
   "outputs": [],
   "source": [
    "mae = mean_absolute_error(y_test, y_pred)\n",
    "mse = mean_squared_error(y_test, y_pred)\n",
    "rmse = np.sqrt(mse)\n",
    "r2 = r2_score(y_test, y_pred)\n"
   ]
  },
  {
   "cell_type": "code",
   "execution_count": 57,
   "id": "9c549b6f",
   "metadata": {},
   "outputs": [
    {
     "name": "stdout",
     "output_type": "stream",
     "text": [
      "Slope:  [-0.06103076]\n",
      "Intercept:  35.25013010654775\n",
      "Mean Absolute Error: 3.32\n",
      "Mean Squared Error: 17.84\n",
      "Root Mean Squared Error: 4.22\n",
      "R2 Score:  0.6949301767586249\n"
     ]
    }
   ],
   "source": [
    "print('Slope: ', lr_regress.coef_)\n",
    "print('Intercept: ', lr_regress.intercept_)\n",
    "print('Mean Absolute Error: {:.2f}'.format(mae))\n",
    "print('Mean Squared Error: {:.2f}'.format(mse))\n",
    "print('Root Mean Squared Error: {:.2f}'.format(rmse))\n",
    "print('R2 Score: ', r2)"
   ]
  },
  {
   "cell_type": "code",
   "execution_count": 60,
   "id": "65ac81fd",
   "metadata": {},
   "outputs": [
    {
     "data": {
      "text/plain": [
       "Text(0, 0.5, 'y - MPG')"
      ]
     },
     "execution_count": 60,
     "metadata": {},
     "output_type": "execute_result"
    },
    {
     "data": {
      "image/png": "[encoded data removed]",
      "text/plain": [
       "<Figure size 640x480 with 1 Axes>"
      ]
     },
     "metadata": {},
     "output_type": "display_data"
    }
   ],
   "source": [
    "plt.scatter(x_test, y_test, s=10)\n",
    "plt.xlabel('x - Displacement')\n",
    "plt.ylabel('y - MPG')"
   ]
  },
  {
   "cell_type": "code",
   "execution_count": 61,
   "id": "9de2fce7",
   "metadata": {},
   "outputs": [
    {
     "data": {
      "image/png": "[encoded data removed]",
      "text/plain": [
       "<Figure size 640x480 with 1 Axes>"
      ]
     },
     "metadata": {},
     "output_type": "display_data"
    }
   ],
   "source": [
    "plt.plot(x_test, y_pred, color='r')\n",
    "plt.show()"
   ]
  },
  {
   "cell_type": "code",
   "execution_count": 62,
   "id": "1ed37ae5",
   "metadata": {},
   "outputs": [
    {
     "name": "stdout",
     "output_type": "stream",
     "text": [
      "Prediction:  [24.8138704] \n",
      "\n"
     ]
    }
   ],
   "source": [
    "pred_my_value = lr_regress.predict([[171.0]])\n",
    "print(\"Prediction: \", pred_my_value, '\\n')"
   ]
  },
  {
   "cell_type": "code",
   "execution_count": null,
   "id": "163c8c08",
   "metadata": {},
   "outputs": [],
   "source": []
  }
 ],
 "metadata": {
  "kernelspec": {
   "display_name": "Python 3 (ipykernel)",
   "language": "python",
   "name": "python3"
  },
  "language_info": {
   "codemirror_mode": {
    "name": "ipython",
    "version": 3
   },
   "file_extension": ".py",
   "mimetype": "text/x-python",
   "name": "python",
   "nbconvert_exporter": "python",
   "pygments_lexer": "ipython3",
   "version": "3.9.13"
  }
 },
 "nbformat": 4,
 "nbformat_minor": 5
}
