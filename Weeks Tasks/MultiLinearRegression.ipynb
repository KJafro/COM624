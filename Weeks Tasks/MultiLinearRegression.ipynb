{
 "cells": [
  {
   "cell_type": "code",
   "execution_count": 34,
   "id": "e11f860b",
   "metadata": {},
   "outputs": [],
   "source": [
    "import numpy as np\n",
    "import pandas as pd\n",
    "from pandas import read_csv\n",
    "import matplotlib.pyplot as plt\n",
    "from sklearn import preprocessing\n",
    "from sklearn.impute import SimpleImputer\n",
    "from sklearn.metrics import mean_squared_error, r2_score, mean_absolute_error\n",
    "from sklearn.metrics import accuracy_score, confusion_matrix, classification_report\n",
    "from pandas.plotting import scatter_matrix\n",
    "from sklearn.model_selection import train_test_split\n",
    "from sklearn.linear_model import LinearRegression"
   ]
  },
  {
   "cell_type": "code",
   "execution_count": 7,
   "id": "250ef342",
   "metadata": {},
   "outputs": [],
   "source": [
    "autompg_headers = ['mpg', 'cylinders', 'displacement', 'horsepower', 'weight', 'acceleration', 'model_year', 'origin', 'car_name']"
   ]
  },
  {
   "cell_type": "code",
   "execution_count": 10,
   "id": "d43c516a",
   "metadata": {},
   "outputs": [],
   "source": [
    "autompg_data = read_csv('C:/dataset/auto_mpg_data.csv', names=autompg_headers)"
   ]
  },
  {
   "cell_type": "code",
   "execution_count": 11,
   "id": "dc91514a",
   "metadata": {},
   "outputs": [],
   "source": [
    "check_missing_data = autompg_data[autompg_data.isna().any(axis=1)]"
   ]
  },
  {
   "cell_type": "code",
   "execution_count": 12,
   "id": "472f83bd",
   "metadata": {},
   "outputs": [],
   "source": [
    "autompg_data['horsepower'] = pd.to_numeric(autompg_data['horsepower'], errors='coerce')\n",
    "missing_data = autompg_data[autompg_data.isna().any(axis=1)]"
   ]
  },
  {
   "cell_type": "code",
   "execution_count": 13,
   "id": "968dc332",
   "metadata": {},
   "outputs": [],
   "source": [
    "imputer = SimpleImputer(strategy='most_frequent')\n",
    "imputer.fit(autompg_data)\n",
    "new_data = imputer.transform(autompg_data)"
   ]
  },
  {
   "cell_type": "code",
   "execution_count": 14,
   "id": "d86def38",
   "metadata": {},
   "outputs": [],
   "source": [
    "autompg_data = pd.DataFrame(data=new_data, columns=autompg_headers)\n",
    "train_headers = ['cylinders', 'displacement', 'horsepower', 'weight', 'acceleration', 'model_year', 'origin', 'car_name']\n",
    "target_header = ['mpg']"
   ]
  },
  {
   "cell_type": "code",
   "execution_count": 15,
   "id": "516a9cb8",
   "metadata": {},
   "outputs": [],
   "source": [
    "X = autompg_data[train_headers]\n",
    "y = autompg_data[target_header]"
   ]
  },
  {
   "cell_type": "code",
   "execution_count": 16,
   "id": "831b55c5",
   "metadata": {},
   "outputs": [],
   "source": [
    "X = autompg_data.iloc[:, 1:8].values"
   ]
  },
  {
   "cell_type": "code",
   "execution_count": 17,
   "id": "22bc451e",
   "metadata": {},
   "outputs": [],
   "source": [
    "y = autompg_data.iloc[:, 0].values"
   ]
  },
  {
   "cell_type": "code",
   "execution_count": 18,
   "id": "8ca50bcc",
   "metadata": {},
   "outputs": [],
   "source": [
    "X_train, X_test, y_train, y_test = train_test_split(X, y, test_size=0.3, random_state=1)"
   ]
  },
  {
   "cell_type": "code",
   "execution_count": 20,
   "id": "599a66d7",
   "metadata": {},
   "outputs": [
    {
     "name": "stdout",
     "output_type": "stream",
     "text": [
      "Total of Training dataset (278, 7)\n",
      "Total of Test dataset (120, 7)\n"
     ]
    }
   ],
   "source": [
    "print('Total of Training dataset', X_train.shape)\n",
    "print('Total of Test dataset', X_test.shape)"
   ]
  },
  {
   "cell_type": "code",
   "execution_count": 21,
   "id": "634245b1",
   "metadata": {},
   "outputs": [],
   "source": [
    "lr_regress = LinearRegression()"
   ]
  },
  {
   "cell_type": "code",
   "execution_count": 22,
   "id": "7c82facc",
   "metadata": {},
   "outputs": [
    {
     "data": {
      "text/plain": [
       "LinearRegression()"
      ]
     },
     "execution_count": 22,
     "metadata": {},
     "output_type": "execute_result"
    }
   ],
   "source": [
    "lr_regress.fit(X_train, y_train)"
   ]
  },
  {
   "cell_type": "code",
   "execution_count": 31,
   "id": "020bac86",
   "metadata": {},
   "outputs": [
    {
     "name": "stdout",
     "output_type": "stream",
     "text": [
      "[21.35631026 26.4130424  20.1108578  25.55252705 24.30988933 15.72647328\n",
      " 28.55919173 34.86967754 16.92024105 10.72225108 30.54233464 16.61792727\n",
      " 22.35433985 26.21346721 36.78716663 22.4609351  10.75487685 20.51715336\n",
      "  8.88875185 33.52440759 26.67727992 31.02164727 21.17110807 25.88906002\n",
      " 26.14410783 28.78377878 32.91050731 33.02523622 15.19634693 30.33555308\n",
      " 27.41881633 10.81882473 20.39544913 29.08021692 25.31332439 13.70240068\n",
      " 27.0925503   9.04779814 31.81101585 24.37101273 24.74448442 24.92841424\n",
      " 20.79680786 32.62389939 26.23263757 22.24191958 21.20604938 11.71134882\n",
      " 29.09864405 19.13244458 25.09203451 27.00347606 16.75729609 12.07840734\n",
      " 28.96849297 25.71203581 10.19646714 13.03309166 31.08597596 36.05025529\n",
      " 35.02475308 36.11119004 17.8501593  27.69232611 20.21319044 32.01598228\n",
      " 26.84739493 26.59461606 29.97053984 12.49131085 20.09308177 23.18697057\n",
      " 14.3927472  26.76746287 11.77924906 26.0319751  26.92306883 16.37764452\n",
      " 11.74725013 23.19375959 21.01668254 19.96280162 35.88367898 24.44413556\n",
      " 34.91276052 17.10298722 15.22573174 23.82078583 34.21413653 30.63447602\n",
      " 19.42085942 22.60467682 20.61485691 25.61757489 30.1778644  22.52490758\n",
      " 33.55864072 27.51294349 24.37097043 24.243443   21.15268558  8.11647598\n",
      " 15.62061084 34.82060731 12.68857785 22.10128444 31.18693196 22.69894659\n",
      " 26.19415868 17.48946487 19.6761655  31.35671776 30.43100174 17.22962225\n",
      " 23.3737288  34.54155955 10.47979778 25.59420367 26.00461087 32.24480218]\n"
     ]
    }
   ],
   "source": [
    "y_pred = lr_regress.predict(X_test)\n",
    "print(y_pred)"
   ]
  },
  {
   "cell_type": "code",
   "execution_count": 32,
   "id": "29e8d941",
   "metadata": {},
   "outputs": [],
   "source": [
    "y_pred_train = lr_regress.predict(X_train)"
   ]
  },
  {
   "cell_type": "code",
   "execution_count": 35,
   "id": "96dedd35",
   "metadata": {},
   "outputs": [
    {
     "name": "stdout",
     "output_type": "stream",
     "text": [
      "\n",
      "Slope:  [-0.39912226  0.02232034 -0.014257   -0.0071813   0.08704964  0.79702551\n",
      "  1.15658328]\n",
      "Intercept:  -19.449513538151333\n",
      "Mean Absolute Error: 2.31\n",
      "Mean Squared Error: 8.97\n",
      "Root Mean Squared Error: 2.99\n",
      "R2 Score:  0.8466472315667264\n"
     ]
    }
   ],
   "source": [
    "mae = mean_absolute_error(y_test, y_pred)\n",
    "mse = mean_squared_error(y_test, y_pred)\n",
    "rmse = np.sqrt(mse)\n",
    "r2 = r2_score(y_test, y_pred)\n",
    "\n",
    "print('\\nSlope: ', lr_regress.coef_)\n",
    "print('Intercept: ', lr_regress.intercept_)\n",
    "print('Mean Absolute Error: {:.2f}'.format(mae))\n",
    "print('Mean Squared Error: {:.2f}'.format(mse))\n",
    "print('Root Mean Squared Error: {:.2f}'.format(rmse))\n",
    "print('R2 Score: ', r2)"
   ]
  },
  {
   "cell_type": "code",
   "execution_count": null,
   "id": "7125537c",
   "metadata": {},
   "outputs": [],
   "source": []
  }
 ],
 "metadata": {
  "kernelspec": {
   "display_name": "Python 3 (ipykernel)",
   "language": "python",
   "name": "python3"
  },
  "language_info": {
   "codemirror_mode": {
    "name": "ipython",
    "version": 3
   },
   "file_extension": ".py",
   "mimetype": "text/x-python",
   "name": "python",
   "nbconvert_exporter": "python",
   "pygments_lexer": "ipython3",
   "version": "3.9.13"
  }
 },
 "nbformat": 4,
 "nbformat_minor": 5
}
