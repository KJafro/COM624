{
 "cells": [
  {
   "cell_type": "code",
   "execution_count": 44,
   "id": "07b20daa",
   "metadata": {},
   "outputs": [],
   "source": [
    "import numpy as np\n",
    "import pandas as pd\n",
    "from pandas import read_csv\n",
    "import matplotlib.pyplot as plt\n",
    "from sklearn import preprocessing\n",
    "from sklearn.impute import SimpleImputer\n",
    "from sklearn.metrics import mean_squared_error, r2_score, mean_absolute_error\n",
    "from sklearn.metrics import accuracy_score, confusion_matrix, classification_report\n",
    "from sklearn.tree import DecisionTreeRegressor\n",
    "from sklearn.model_selection import train_test_split\n",
    "from sklearn.linear_model import LinearRegression\n",
    "from pandas.plotting import scatter_matrix"
   ]
  },
  {
   "cell_type": "code",
   "execution_count": 3,
   "id": "09bb45e8",
   "metadata": {},
   "outputs": [],
   "source": [
    "autompg_headers = ['mpg', 'cylinders', 'displacement', 'horsepower', 'weight', 'acceleration', 'model_year', 'origin', 'car_name']"
   ]
  },
  {
   "cell_type": "code",
   "execution_count": 4,
   "id": "fe293fb0",
   "metadata": {},
   "outputs": [],
   "source": [
    "autompg_data = read_csv('C:/dataset/auto_mpg_data.csv', names=autompg_headers)"
   ]
  },
  {
   "cell_type": "code",
   "execution_count": 5,
   "id": "1a59e4ae",
   "metadata": {},
   "outputs": [],
   "source": [
    "check_missing_data = autompg_data[autompg_data.isna().any(axis=1)]"
   ]
  },
  {
   "cell_type": "code",
   "execution_count": 7,
   "id": "25c9ac7f",
   "metadata": {},
   "outputs": [],
   "source": [
    "autompg_data['horsepower'] = pd.to_numeric(autompg_data['horsepower'],errors='coerce')"
   ]
  },
  {
   "cell_type": "code",
   "execution_count": 8,
   "id": "483681a6",
   "metadata": {},
   "outputs": [],
   "source": [
    "missing_data = autompg_data[autompg_data.isna().any(axis=1)]"
   ]
  },
  {
   "cell_type": "code",
   "execution_count": 13,
   "id": "5f344245",
   "metadata": {},
   "outputs": [],
   "source": [
    "imputer = SimpleImputer(strategy='most_frequent')\n",
    "imputer.fit(autompg_data)\n",
    "new_data = imputer.transform(autompg_data)"
   ]
  },
  {
   "cell_type": "code",
   "execution_count": 14,
   "id": "c7c3a06d",
   "metadata": {},
   "outputs": [],
   "source": [
    "autompg_data = pd.DataFrame(data=new_data, columns=autompg_headers)"
   ]
  },
  {
   "cell_type": "code",
   "execution_count": 15,
   "id": "25aa41a9",
   "metadata": {},
   "outputs": [],
   "source": [
    "train_headers = ['cylinders', 'displacement', 'horsepower', 'weight', 'acceleration', 'model_year', 'origin', 'car_name']\n",
    "target_header = ['mpg']"
   ]
  },
  {
   "cell_type": "code",
   "execution_count": 16,
   "id": "26bbee9a",
   "metadata": {},
   "outputs": [],
   "source": [
    "X = autompg_data[train_headers]\n",
    "y = autompg_data[target_header]"
   ]
  },
  {
   "cell_type": "code",
   "execution_count": 18,
   "id": "0bdc9d25",
   "metadata": {},
   "outputs": [],
   "source": [
    "X = autompg_data.iloc[:, 0].values"
   ]
  },
  {
   "cell_type": "code",
   "execution_count": 19,
   "id": "03716f3f",
   "metadata": {},
   "outputs": [],
   "source": [
    "y = autompg_data.iloc[:, 0].values"
   ]
  },
  {
   "cell_type": "code",
   "execution_count": 20,
   "id": "6f308037",
   "metadata": {},
   "outputs": [],
   "source": [
    "X_train, X_test, y_train, y_test = train_test_split(X, y, test_size=0.3, random_state=1)"
   ]
  },
  {
   "cell_type": "code",
   "execution_count": 21,
   "id": "19f488c8",
   "metadata": {},
   "outputs": [
    {
     "name": "stdout",
     "output_type": "stream",
     "text": [
      "\n",
      " Total of Training Dataset (278,)\n",
      "\n",
      " Total of Test Dataset (120,)\n"
     ]
    }
   ],
   "source": [
    "print('\\n Total of Training Dataset', X_train.shape)\n",
    "print('\\n Total of Test Dataset', X_test.shape)"
   ]
  },
  {
   "cell_type": "code",
   "execution_count": 26,
   "id": "ca4b020c",
   "metadata": {},
   "outputs": [],
   "source": [
    "dt_model = DecisionTreeRegressor(max_depth=8, min_samples_leaf=0.13, random_state=1)"
   ]
  },
  {
   "cell_type": "code",
   "execution_count": 30,
   "id": "ab616ea6",
   "metadata": {},
   "outputs": [],
   "source": [
    "dt_model=DecisionTreeRegressor()"
   ]
  },
  {
   "cell_type": "code",
   "execution_count": 38,
   "id": "0ea45580",
   "metadata": {},
   "outputs": [],
   "source": [
    "X_train = X_train.reshape(-1, 1)\n",
    "X_test = X_test.reshape(-1, 1)"
   ]
  },
  {
   "cell_type": "code",
   "execution_count": 39,
   "id": "5ccad095",
   "metadata": {},
   "outputs": [
    {
     "data": {
      "text/plain": [
       "DecisionTreeRegressor()"
      ]
     },
     "execution_count": 39,
     "metadata": {},
     "output_type": "execute_result"
    }
   ],
   "source": [
    "dt_model.fit(X_train, y_train)"
   ]
  },
  {
   "cell_type": "code",
   "execution_count": 40,
   "id": "51110888",
   "metadata": {},
   "outputs": [],
   "source": [
    "y_pred = dt_model.predict(X_test)"
   ]
  },
  {
   "cell_type": "code",
   "execution_count": 41,
   "id": "1e1113aa",
   "metadata": {},
   "outputs": [],
   "source": [
    "y_pred_train = dt_model.predict(X_train)"
   ]
  },
  {
   "cell_type": "code",
   "execution_count": 45,
   "id": "768bcc0f",
   "metadata": {},
   "outputs": [],
   "source": [
    "mae = mean_absolute_error(y_test, y_pred)\n",
    "mse = mean_squared_error(y_test, y_pred)\n",
    "rmse = np.sqrt(mse)\n",
    "r2 = r2_score(y_test, y_pred)"
   ]
  },
  {
   "cell_type": "code",
   "execution_count": 46,
   "id": "52af9814",
   "metadata": {},
   "outputs": [
    {
     "name": "stdout",
     "output_type": "stream",
     "text": [
      "Mean Absolute Error: 0.04\n",
      "Mean Squared Error: 0.01\n",
      "Root Mean Squared Error: 0.10\n",
      "R2 Score: 1.00\n"
     ]
    }
   ],
   "source": [
    "print('Mean Absolute Error: {:.2f}'.format(mae))\n",
    "print('Mean Squared Error: {:.2f}'.format(mse))\n",
    "print('Root Mean Squared Error: {:.2f}'.format(rmse))\n",
    "print('R2 Score: {:.2f}'.format(r2))"
   ]
  },
  {
   "cell_type": "code",
   "execution_count": null,
   "id": "79f4a31d",
   "metadata": {},
   "outputs": [],
   "source": []
  }
 ],
 "metadata": {
  "kernelspec": {
   "display_name": "Python 3 (ipykernel)",
   "language": "python",
   "name": "python3"
  },
  "language_info": {
   "codemirror_mode": {
    "name": "ipython",
    "version": 3
   },
   "file_extension": ".py",
   "mimetype": "text/x-python",
   "name": "python",
   "nbconvert_exporter": "python",
   "pygments_lexer": "ipython3",
   "version": "3.9.13"
  }
 },
 "nbformat": 4,
 "nbformat_minor": 5
}
