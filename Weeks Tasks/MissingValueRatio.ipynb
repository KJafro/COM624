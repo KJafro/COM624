{
 "cells": [
  {
   "cell_type": "code",
   "execution_count": 5,
   "id": "e74d3c72",
   "metadata": {},
   "outputs": [],
   "source": [
    "from pandas import read_csv\n",
    "from numpy import set_printoptions\n",
    "from sklearn import preprocessing\n",
    "from sklearn.impute import SimpleImputer\n",
    "\n",
    "header_names = ['preg', 'plas', 'pres', 'skin', 'test', 'mass', 'pedi', 'age', 'class']\n",
    "my_data = read_csv(\"C:/dataset/pima_indians_diabetes_2.csv\", names=header_names)"
   ]
  },
  {
   "cell_type": "code",
   "execution_count": 6,
   "id": "6ebb9c6b",
   "metadata": {},
   "outputs": [
    {
     "name": "stdout",
     "output_type": "stream",
     "text": [
      "(771, 9)\n"
     ]
    }
   ],
   "source": [
    "print(my_data.shape)"
   ]
  },
  {
   "cell_type": "code",
   "execution_count": 7,
   "id": "5c7a37ea",
   "metadata": {},
   "outputs": [
    {
     "name": "stdout",
     "output_type": "stream",
     "text": [
      "     preg   plas  pres  skin  test  mass   pedi   age  class\n",
      "440     2  120.0   NaN    26  16.0  36.8  0.766  22.0      0\n",
      "661     2  120.0  58.0    26  16.0   NaN  0.766  22.0      0\n",
      "770     2    NaN  58.0    26   NaN  28.4  0.766   NaN      0\n",
      "3\n"
     ]
    }
   ],
   "source": [
    "empty_value_data = my_data[my_data.isna().any(axis=1)]\n",
    "print(empty_value_data)\n",
    "print(len(empty_value_data))"
   ]
  },
  {
   "cell_type": "code",
   "execution_count": 8,
   "id": "f1366df8",
   "metadata": {},
   "outputs": [
    {
     "name": "stdout",
     "output_type": "stream",
     "text": [
      "preg     0.000000\n",
      "plas     0.129702\n",
      "pres     0.129702\n",
      "skin     0.000000\n",
      "test     0.129702\n",
      "mass     0.129702\n",
      "pedi     0.000000\n",
      "age      0.129702\n",
      "class    0.000000\n",
      "dtype: float64\n"
     ]
    }
   ],
   "source": [
    "perc_missing = my_data.isnull().sum()/len(my_data)*100\n",
    "print(perc_missing)"
   ]
  },
  {
   "cell_type": "code",
   "execution_count": 13,
   "id": "4f4d0e0b",
   "metadata": {},
   "outputs": [
    {
     "name": "stdout",
     "output_type": "stream",
     "text": [
      "[]\n",
      "['plas']\n",
      "['plas', 'pres']\n",
      "['plas', 'pres']\n",
      "['plas', 'pres', 'test']\n",
      "['plas', 'pres', 'test', 'mass']\n",
      "['plas', 'pres', 'test', 'mass']\n",
      "['plas', 'pres', 'test', 'mass', 'age']\n",
      "['plas', 'pres', 'test', 'mass', 'age']\n"
     ]
    }
   ],
   "source": [
    "var_list = my_data.columns\n",
    "var=[]\n",
    "for i in range(0,9):\n",
    "    if perc_missing[i]>=0.1:\n",
    "        var.append(var_list[i])\n",
    "    print(var)"
   ]
  },
  {
   "cell_type": "code",
   "execution_count": null,
   "id": "3f85df9c",
   "metadata": {},
   "outputs": [],
   "source": []
  }
 ],
 "metadata": {
  "kernelspec": {
   "display_name": "Python 3 (ipykernel)",
   "language": "python",
   "name": "python3"
  },
  "language_info": {
   "codemirror_mode": {
    "name": "ipython",
    "version": 3
   },
   "file_extension": ".py",
   "mimetype": "text/x-python",
   "name": "python",
   "nbconvert_exporter": "python",
   "pygments_lexer": "ipython3",
   "version": "3.9.13"
  }
 },
 "nbformat": 4,
 "nbformat_minor": 5
}
