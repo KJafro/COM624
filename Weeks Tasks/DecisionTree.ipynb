{
 "cells": [
  {
   "cell_type": "code",
   "execution_count": 9,
   "id": "337de260",
   "metadata": {},
   "outputs": [
    {
     "data": {
      "text/html": [
       "<div>\n",
       "<style scoped>\n",
       "    .dataframe tbody tr th:only-of-type {\n",
       "        vertical-align: middle;\n",
       "    }\n",
       "\n",
       "    .dataframe tbody tr th {\n",
       "        vertical-align: top;\n",
       "    }\n",
       "\n",
       "    .dataframe thead th {\n",
       "        text-align: right;\n",
       "    }\n",
       "</style>\n",
       "<table border=\"1\" class=\"dataframe\">\n",
       "  <thead>\n",
       "    <tr style=\"text-align: right;\">\n",
       "      <th></th>\n",
       "      <th>sample_code</th>\n",
       "      <th>sample_thickness</th>\n",
       "      <th>uni_cell_size</th>\n",
       "      <th>uni_cell_shape</th>\n",
       "      <th>marg_adhesion</th>\n",
       "      <th>epi_cell_size</th>\n",
       "      <th>nuclei</th>\n",
       "      <th>bland_chromatin</th>\n",
       "      <th>normal_nucleoli</th>\n",
       "      <th>mitoses</th>\n",
       "      <th>tumor_class</th>\n",
       "    </tr>\n",
       "  </thead>\n",
       "  <tbody>\n",
       "    <tr>\n",
       "      <th>0</th>\n",
       "      <td>1000025</td>\n",
       "      <td>5</td>\n",
       "      <td>1</td>\n",
       "      <td>1</td>\n",
       "      <td>1</td>\n",
       "      <td>2</td>\n",
       "      <td>1</td>\n",
       "      <td>3</td>\n",
       "      <td>1</td>\n",
       "      <td>1</td>\n",
       "      <td>2</td>\n",
       "    </tr>\n",
       "    <tr>\n",
       "      <th>1</th>\n",
       "      <td>1002945</td>\n",
       "      <td>5</td>\n",
       "      <td>4</td>\n",
       "      <td>4</td>\n",
       "      <td>5</td>\n",
       "      <td>7</td>\n",
       "      <td>10</td>\n",
       "      <td>3</td>\n",
       "      <td>2</td>\n",
       "      <td>1</td>\n",
       "      <td>2</td>\n",
       "    </tr>\n",
       "    <tr>\n",
       "      <th>2</th>\n",
       "      <td>1015425</td>\n",
       "      <td>3</td>\n",
       "      <td>1</td>\n",
       "      <td>1</td>\n",
       "      <td>1</td>\n",
       "      <td>2</td>\n",
       "      <td>2</td>\n",
       "      <td>3</td>\n",
       "      <td>1</td>\n",
       "      <td>1</td>\n",
       "      <td>2</td>\n",
       "    </tr>\n",
       "    <tr>\n",
       "      <th>3</th>\n",
       "      <td>1016277</td>\n",
       "      <td>6</td>\n",
       "      <td>8</td>\n",
       "      <td>8</td>\n",
       "      <td>1</td>\n",
       "      <td>3</td>\n",
       "      <td>4</td>\n",
       "      <td>3</td>\n",
       "      <td>7</td>\n",
       "      <td>1</td>\n",
       "      <td>2</td>\n",
       "    </tr>\n",
       "    <tr>\n",
       "      <th>4</th>\n",
       "      <td>1017023</td>\n",
       "      <td>4</td>\n",
       "      <td>1</td>\n",
       "      <td>1</td>\n",
       "      <td>3</td>\n",
       "      <td>2</td>\n",
       "      <td>1</td>\n",
       "      <td>3</td>\n",
       "      <td>1</td>\n",
       "      <td>1</td>\n",
       "      <td>2</td>\n",
       "    </tr>\n",
       "  </tbody>\n",
       "</table>\n",
       "</div>"
      ],
      "text/plain": [
       "   sample_code  sample_thickness  uni_cell_size  uni_cell_shape  \\\n",
       "0      1000025                 5              1               1   \n",
       "1      1002945                 5              4               4   \n",
       "2      1015425                 3              1               1   \n",
       "3      1016277                 6              8               8   \n",
       "4      1017023                 4              1               1   \n",
       "\n",
       "   marg_adhesion  epi_cell_size nuclei  bland_chromatin  normal_nucleoli  \\\n",
       "0              1              2      1                3                1   \n",
       "1              5              7     10                3                2   \n",
       "2              1              2      2                3                1   \n",
       "3              1              3      4                3                7   \n",
       "4              3              2      1                3                1   \n",
       "\n",
       "   mitoses  tumor_class  \n",
       "0        1            2  \n",
       "1        1            2  \n",
       "2        1            2  \n",
       "3        1            2  \n",
       "4        1            2  "
      ]
     },
     "execution_count": 9,
     "metadata": {},
     "output_type": "execute_result"
    }
   ],
   "source": [
    "import numpy as np\n",
    "import pandas as pd\n",
    "from pandas import read_csv\n",
    "\n",
    "winconsin_headers = ['sample_code', 'sample_thickness', 'uni_cell_size', 'uni_cell_shape', 'marg_adhesion', 'epi_cell_size',\n",
    "                    'nuclei', 'bland_chromatin', 'normal_nucleoli', 'mitoses', 'tumor_class']\n",
    "\n",
    "wins_data = read_csv (\"C:\\dataset\\winsconsin_b_cancer.csv\", names = winconsin_headers)\n",
    "wins_data.head(5)"
   ]
  },
  {
   "cell_type": "code",
   "execution_count": 10,
   "id": "fe3c6104",
   "metadata": {},
   "outputs": [
    {
     "data": {
      "text/html": [
       "<div>\n",
       "<style scoped>\n",
       "    .dataframe tbody tr th:only-of-type {\n",
       "        vertical-align: middle;\n",
       "    }\n",
       "\n",
       "    .dataframe tbody tr th {\n",
       "        vertical-align: top;\n",
       "    }\n",
       "\n",
       "    .dataframe thead th {\n",
       "        text-align: right;\n",
       "    }\n",
       "</style>\n",
       "<table border=\"1\" class=\"dataframe\">\n",
       "  <thead>\n",
       "    <tr style=\"text-align: right;\">\n",
       "      <th></th>\n",
       "      <th>sample_code</th>\n",
       "      <th>sample_thickness</th>\n",
       "      <th>uni_cell_size</th>\n",
       "      <th>uni_cell_shape</th>\n",
       "      <th>marg_adhesion</th>\n",
       "      <th>epi_cell_size</th>\n",
       "      <th>nuclei</th>\n",
       "      <th>bland_chromatin</th>\n",
       "      <th>normal_nucleoli</th>\n",
       "      <th>mitoses</th>\n",
       "      <th>tumor_class</th>\n",
       "    </tr>\n",
       "  </thead>\n",
       "  <tbody>\n",
       "    <tr>\n",
       "      <th>694</th>\n",
       "      <td>776715</td>\n",
       "      <td>3</td>\n",
       "      <td>1</td>\n",
       "      <td>1</td>\n",
       "      <td>1</td>\n",
       "      <td>3</td>\n",
       "      <td>2</td>\n",
       "      <td>1</td>\n",
       "      <td>1</td>\n",
       "      <td>1</td>\n",
       "      <td>2</td>\n",
       "    </tr>\n",
       "    <tr>\n",
       "      <th>695</th>\n",
       "      <td>841769</td>\n",
       "      <td>2</td>\n",
       "      <td>1</td>\n",
       "      <td>1</td>\n",
       "      <td>1</td>\n",
       "      <td>2</td>\n",
       "      <td>1</td>\n",
       "      <td>1</td>\n",
       "      <td>1</td>\n",
       "      <td>1</td>\n",
       "      <td>2</td>\n",
       "    </tr>\n",
       "    <tr>\n",
       "      <th>696</th>\n",
       "      <td>888820</td>\n",
       "      <td>5</td>\n",
       "      <td>10</td>\n",
       "      <td>10</td>\n",
       "      <td>3</td>\n",
       "      <td>7</td>\n",
       "      <td>3</td>\n",
       "      <td>8</td>\n",
       "      <td>10</td>\n",
       "      <td>2</td>\n",
       "      <td>4</td>\n",
       "    </tr>\n",
       "    <tr>\n",
       "      <th>697</th>\n",
       "      <td>897471</td>\n",
       "      <td>4</td>\n",
       "      <td>8</td>\n",
       "      <td>6</td>\n",
       "      <td>4</td>\n",
       "      <td>3</td>\n",
       "      <td>4</td>\n",
       "      <td>10</td>\n",
       "      <td>6</td>\n",
       "      <td>1</td>\n",
       "      <td>4</td>\n",
       "    </tr>\n",
       "    <tr>\n",
       "      <th>698</th>\n",
       "      <td>897471</td>\n",
       "      <td>4</td>\n",
       "      <td>8</td>\n",
       "      <td>8</td>\n",
       "      <td>5</td>\n",
       "      <td>4</td>\n",
       "      <td>5</td>\n",
       "      <td>10</td>\n",
       "      <td>4</td>\n",
       "      <td>1</td>\n",
       "      <td>4</td>\n",
       "    </tr>\n",
       "  </tbody>\n",
       "</table>\n",
       "</div>"
      ],
      "text/plain": [
       "     sample_code  sample_thickness  uni_cell_size  uni_cell_shape  \\\n",
       "694       776715                 3              1               1   \n",
       "695       841769                 2              1               1   \n",
       "696       888820                 5             10              10   \n",
       "697       897471                 4              8               6   \n",
       "698       897471                 4              8               8   \n",
       "\n",
       "     marg_adhesion  epi_cell_size nuclei  bland_chromatin  normal_nucleoli  \\\n",
       "694              1              3      2                1                1   \n",
       "695              1              2      1                1                1   \n",
       "696              3              7      3                8               10   \n",
       "697              4              3      4               10                6   \n",
       "698              5              4      5               10                4   \n",
       "\n",
       "     mitoses  tumor_class  \n",
       "694        1            2  \n",
       "695        1            2  \n",
       "696        2            4  \n",
       "697        1            4  \n",
       "698        1            4  "
      ]
     },
     "execution_count": 10,
     "metadata": {},
     "output_type": "execute_result"
    }
   ],
   "source": [
    "wins_data.tail(5)"
   ]
  },
  {
   "cell_type": "code",
   "execution_count": 11,
   "id": "b03cb9a5",
   "metadata": {},
   "outputs": [],
   "source": [
    "# Printed both the head and tail of dataset"
   ]
  },
  {
   "cell_type": "code",
   "execution_count": 12,
   "id": "6057768c",
   "metadata": {},
   "outputs": [
    {
     "name": "stdout",
     "output_type": "stream",
     "text": [
      "(699, 11)\n"
     ]
    }
   ],
   "source": [
    "print (wins_data.shape)"
   ]
  },
  {
   "cell_type": "code",
   "execution_count": 13,
   "id": "ca757ad4",
   "metadata": {},
   "outputs": [],
   "source": [
    "# Printed the data dimensions"
   ]
  },
  {
   "cell_type": "code",
   "execution_count": 14,
   "id": "f2a63bbc",
   "metadata": {},
   "outputs": [],
   "source": [
    "win_empty_data = wins_data[wins_data.isna().any(axis=1)]"
   ]
  },
  {
   "cell_type": "code",
   "execution_count": 15,
   "id": "bf2eb2ca",
   "metadata": {},
   "outputs": [
    {
     "name": "stdout",
     "output_type": "stream",
     "text": [
      "Empty DataFrame\n",
      "Columns: [sample_code, sample_thickness, uni_cell_size, uni_cell_shape, marg_adhesion, epi_cell_size, nuclei, bland_chromatin, normal_nucleoli, mitoses, tumor_class]\n",
      "Index: []\n"
     ]
    }
   ],
   "source": [
    "print(win_empty_data)"
   ]
  },
  {
   "cell_type": "code",
   "execution_count": 16,
   "id": "8a44b624",
   "metadata": {},
   "outputs": [],
   "source": [
    "# 0 Missing values"
   ]
  },
  {
   "cell_type": "code",
   "execution_count": 17,
   "id": "48139766",
   "metadata": {},
   "outputs": [
    {
     "name": "stdout",
     "output_type": "stream",
     "text": [
      "sample_code          int64\n",
      "sample_thickness     int64\n",
      "uni_cell_size        int64\n",
      "uni_cell_shape       int64\n",
      "marg_adhesion        int64\n",
      "epi_cell_size        int64\n",
      "nuclei              object\n",
      "bland_chromatin      int64\n",
      "normal_nucleoli      int64\n",
      "mitoses              int64\n",
      "tumor_class          int64\n",
      "dtype: object\n"
     ]
    }
   ],
   "source": [
    "print(wins_data.dtypes)"
   ]
  },
  {
   "cell_type": "code",
   "execution_count": 18,
   "id": "592b4c72",
   "metadata": {},
   "outputs": [],
   "source": [
    "# Shows the datatypes of all columns"
   ]
  },
  {
   "cell_type": "code",
   "execution_count": 19,
   "id": "2c57cfa5",
   "metadata": {},
   "outputs": [
    {
     "name": "stdout",
     "output_type": "stream",
     "text": [
      "     sample_code  sample_thickness  uni_cell_size  uni_cell_shape  \\\n",
      "23       1057013                 8              4               5   \n",
      "40       1096800                 6              6               6   \n",
      "139      1183246                 1              1               1   \n",
      "145      1184840                 1              1               3   \n",
      "158      1193683                 1              1               2   \n",
      "164      1197510                 5              1               1   \n",
      "235      1241232                 3              1               4   \n",
      "249       169356                 3              1               1   \n",
      "275       432809                 3              1               3   \n",
      "292       563649                 8              8               8   \n",
      "294       606140                 1              1               1   \n",
      "297        61634                 5              4               3   \n",
      "315       704168                 4              6               5   \n",
      "321       733639                 3              1               1   \n",
      "411      1238464                 1              1               1   \n",
      "617      1057067                 1              1               1   \n",
      "\n",
      "     marg_adhesion  epi_cell_size nuclei  bland_chromatin  normal_nucleoli  \\\n",
      "23               1              2      ?                7                3   \n",
      "40               9              6      ?                7                8   \n",
      "139              1              1      ?                2                1   \n",
      "145              1              2      ?                2                1   \n",
      "158              1              3      ?                1                1   \n",
      "164              1              2      ?                3                1   \n",
      "235              1              2      ?                3                1   \n",
      "249              1              2      ?                3                1   \n",
      "275              1              2      ?                2                1   \n",
      "292              1              2      ?                6               10   \n",
      "294              1              2      ?                2                1   \n",
      "297              1              2      ?                2                3   \n",
      "315              6              7      ?                4                9   \n",
      "321              1              2      ?                3                1   \n",
      "411              1              1      ?                2                1   \n",
      "617              1              1      ?                1                1   \n",
      "\n",
      "     mitoses  tumor_class  \n",
      "23         1            4  \n",
      "40         1            2  \n",
      "139        1            2  \n",
      "145        1            2  \n",
      "158        1            2  \n",
      "164        1            2  \n",
      "235        1            2  \n",
      "249        1            2  \n",
      "275        1            2  \n",
      "292        1            4  \n",
      "294        1            2  \n",
      "297        1            2  \n",
      "315        1            2  \n",
      "321        1            2  \n",
      "411        1            2  \n",
      "617        1            2  \n"
     ]
    }
   ],
   "source": [
    "(wins_data[pd.to_numeric(wins_data['nuclei'], errors='coerce').isnull()])"
   ]
  },
  {
   "cell_type": "code",
   "execution_count": 20,
   "id": "d386b14c",
   "metadata": {},
   "outputs": [
    {
     "ename": "NameError",
     "evalue": "name 'wins' is not defined",
     "output_type": "error",
     "traceback": [
      "\u001b[1;31m---------------------------------------------------------------------------\u001b[0m",
      "\u001b[1;31mNameError\u001b[0m                                 Traceback (most recent call last)",
      "\u001b[1;32m~\\AppData\\Local\\Temp\\ipykernel_7072\\575734526.py\u001b[0m in \u001b[0;36m<module>\u001b[1;34m\u001b[0m\n\u001b[1;32m----> 1\u001b[1;33m \u001b[0mwin_empty_data\u001b[0m \u001b[1;33m=\u001b[0m \u001b[0mwins\u001b[0m\u001b[1;33m.\u001b[0m\u001b[0mdata\u001b[0m\u001b[1;33m[\u001b[0m\u001b[0mwins_data\u001b[0m\u001b[1;33m.\u001b[0m\u001b[0misna\u001b[0m\u001b[1;33m(\u001b[0m\u001b[1;33m)\u001b[0m\u001b[1;33m.\u001b[0m\u001b[0many\u001b[0m\u001b[1;33m(\u001b[0m\u001b[0maxis\u001b[0m\u001b[1;33m=\u001b[0m\u001b[1;36m1\u001b[0m\u001b[1;33m)\u001b[0m\u001b[1;33m]\u001b[0m\u001b[1;33m\u001b[0m\u001b[1;33m\u001b[0m\u001b[0m\n\u001b[0m\u001b[0;32m      2\u001b[0m \u001b[0mprint\u001b[0m\u001b[1;33m(\u001b[0m\u001b[1;34m'Missing data \\n'\u001b[0m\u001b[1;33m,\u001b[0m \u001b[0mwin_empty_data\u001b[0m\u001b[1;33m)\u001b[0m\u001b[1;33m\u001b[0m\u001b[1;33m\u001b[0m\u001b[0m\n",
      "\u001b[1;31mNameError\u001b[0m: name 'wins' is not defined"
     ]
    }
   ],
   "source": [
    "win_empty_data = wins.data[wins_data.isna().any(axis=1)]\n",
    "print('Missing data \\n', win_empty_data)"
   ]
  },
  {
   "cell_type": "code",
   "execution_count": 21,
   "id": "04d5078d",
   "metadata": {},
   "outputs": [
    {
     "ename": "SyntaxError",
     "evalue": "invalid syntax (4147416910.py, line 1)",
     "output_type": "error",
     "traceback": [
      "\u001b[1;36m  File \u001b[1;32m\"C:\\Users\\Kurtj\\AppData\\Local\\Temp\\ipykernel_7072\\4147416910.py\"\u001b[1;36m, line \u001b[1;32m1\u001b[0m\n\u001b[1;33m    (wins_data['nuclei'] = pd.to_numeric(wins_data['nuclei'], errors='coerce')\u001b[0m\n\u001b[1;37m                         ^\u001b[0m\n\u001b[1;31mSyntaxError\u001b[0m\u001b[1;31m:\u001b[0m invalid syntax\n"
     ]
    }
   ],
   "source": [
    "(wins_data['nuclei'] = pd.to_numeric(wins_data['nuclei'], errors='coerce')"
   ]
  },
  {
   "cell_type": "code",
   "execution_count": 22,
   "id": "ce437821",
   "metadata": {},
   "outputs": [],
   "source": [
    "wins_data['nuclei'] = pd.to_numeric(wins_data['nuclei'], errors='coerce')"
   ]
  },
  {
   "cell_type": "code",
   "execution_count": 23,
   "id": "5dc0a7eb",
   "metadata": {},
   "outputs": [
    {
     "name": "stdout",
     "output_type": "stream",
     "text": [
      "Missing data      sample_code  sample_thickness  uni_cell_size  uni_cell_shape  \\\n",
      "23       1057013                 8              4               5   \n",
      "40       1096800                 6              6               6   \n",
      "139      1183246                 1              1               1   \n",
      "145      1184840                 1              1               3   \n",
      "158      1193683                 1              1               2   \n",
      "164      1197510                 5              1               1   \n",
      "235      1241232                 3              1               4   \n",
      "249       169356                 3              1               1   \n",
      "275       432809                 3              1               3   \n",
      "292       563649                 8              8               8   \n",
      "294       606140                 1              1               1   \n",
      "297        61634                 5              4               3   \n",
      "315       704168                 4              6               5   \n",
      "321       733639                 3              1               1   \n",
      "411      1238464                 1              1               1   \n",
      "617      1057067                 1              1               1   \n",
      "\n",
      "     marg_adhesion  epi_cell_size  nuclei  bland_chromatin  normal_nucleoli  \\\n",
      "23               1              2     NaN                7                3   \n",
      "40               9              6     NaN                7                8   \n",
      "139              1              1     NaN                2                1   \n",
      "145              1              2     NaN                2                1   \n",
      "158              1              3     NaN                1                1   \n",
      "164              1              2     NaN                3                1   \n",
      "235              1              2     NaN                3                1   \n",
      "249              1              2     NaN                3                1   \n",
      "275              1              2     NaN                2                1   \n",
      "292              1              2     NaN                6               10   \n",
      "294              1              2     NaN                2                1   \n",
      "297              1              2     NaN                2                3   \n",
      "315              6              7     NaN                4                9   \n",
      "321              1              2     NaN                3                1   \n",
      "411              1              1     NaN                2                1   \n",
      "617              1              1     NaN                1                1   \n",
      "\n",
      "     mitoses  tumor_class  \n",
      "23         1            4  \n",
      "40         1            2  \n",
      "139        1            2  \n",
      "145        1            2  \n",
      "158        1            2  \n",
      "164        1            2  \n",
      "235        1            2  \n",
      "249        1            2  \n",
      "275        1            2  \n",
      "292        1            4  \n",
      "294        1            2  \n",
      "297        1            2  \n",
      "315        1            2  \n",
      "321        1            2  \n",
      "411        1            2  \n",
      "617        1            2  \n"
     ]
    }
   ],
   "source": [
    "win_empty_data = wins_data[wins_data.isna().any(axis=1)]\n",
    "print('Missing data', win_empty_data)"
   ]
  },
  {
   "cell_type": "code",
   "execution_count": 24,
   "id": "0b52809b",
   "metadata": {},
   "outputs": [
    {
     "data": {
      "text/html": [
       "<div>\n",
       "<style scoped>\n",
       "    .dataframe tbody tr th:only-of-type {\n",
       "        vertical-align: middle;\n",
       "    }\n",
       "\n",
       "    .dataframe tbody tr th {\n",
       "        vertical-align: top;\n",
       "    }\n",
       "\n",
       "    .dataframe thead th {\n",
       "        text-align: right;\n",
       "    }\n",
       "</style>\n",
       "<table border=\"1\" class=\"dataframe\">\n",
       "  <thead>\n",
       "    <tr style=\"text-align: right;\">\n",
       "      <th></th>\n",
       "      <th>sample_code</th>\n",
       "      <th>sample_thickness</th>\n",
       "      <th>uni_cell_size</th>\n",
       "      <th>uni_cell_shape</th>\n",
       "      <th>marg_adhesion</th>\n",
       "      <th>epi_cell_size</th>\n",
       "      <th>nuclei</th>\n",
       "      <th>bland_chromatin</th>\n",
       "      <th>normal_nucleoli</th>\n",
       "      <th>mitoses</th>\n",
       "      <th>tumor_class</th>\n",
       "    </tr>\n",
       "  </thead>\n",
       "  <tbody>\n",
       "    <tr>\n",
       "      <th>count</th>\n",
       "      <td>6.990000e+02</td>\n",
       "      <td>699.000000</td>\n",
       "      <td>699.000000</td>\n",
       "      <td>699.000000</td>\n",
       "      <td>699.000000</td>\n",
       "      <td>699.000000</td>\n",
       "      <td>683.000000</td>\n",
       "      <td>699.000000</td>\n",
       "      <td>699.000000</td>\n",
       "      <td>699.000000</td>\n",
       "      <td>699.000000</td>\n",
       "    </tr>\n",
       "    <tr>\n",
       "      <th>mean</th>\n",
       "      <td>1.071704e+06</td>\n",
       "      <td>4.417740</td>\n",
       "      <td>3.134478</td>\n",
       "      <td>3.207439</td>\n",
       "      <td>2.806867</td>\n",
       "      <td>3.216023</td>\n",
       "      <td>3.544656</td>\n",
       "      <td>3.437768</td>\n",
       "      <td>2.866953</td>\n",
       "      <td>1.589413</td>\n",
       "      <td>2.689557</td>\n",
       "    </tr>\n",
       "    <tr>\n",
       "      <th>std</th>\n",
       "      <td>6.170957e+05</td>\n",
       "      <td>2.815741</td>\n",
       "      <td>3.051459</td>\n",
       "      <td>2.971913</td>\n",
       "      <td>2.855379</td>\n",
       "      <td>2.214300</td>\n",
       "      <td>3.643857</td>\n",
       "      <td>2.438364</td>\n",
       "      <td>3.053634</td>\n",
       "      <td>1.715078</td>\n",
       "      <td>0.951273</td>\n",
       "    </tr>\n",
       "    <tr>\n",
       "      <th>min</th>\n",
       "      <td>6.163400e+04</td>\n",
       "      <td>1.000000</td>\n",
       "      <td>1.000000</td>\n",
       "      <td>1.000000</td>\n",
       "      <td>1.000000</td>\n",
       "      <td>1.000000</td>\n",
       "      <td>1.000000</td>\n",
       "      <td>1.000000</td>\n",
       "      <td>1.000000</td>\n",
       "      <td>1.000000</td>\n",
       "      <td>2.000000</td>\n",
       "    </tr>\n",
       "    <tr>\n",
       "      <th>25%</th>\n",
       "      <td>8.706885e+05</td>\n",
       "      <td>2.000000</td>\n",
       "      <td>1.000000</td>\n",
       "      <td>1.000000</td>\n",
       "      <td>1.000000</td>\n",
       "      <td>2.000000</td>\n",
       "      <td>1.000000</td>\n",
       "      <td>2.000000</td>\n",
       "      <td>1.000000</td>\n",
       "      <td>1.000000</td>\n",
       "      <td>2.000000</td>\n",
       "    </tr>\n",
       "    <tr>\n",
       "      <th>50%</th>\n",
       "      <td>1.171710e+06</td>\n",
       "      <td>4.000000</td>\n",
       "      <td>1.000000</td>\n",
       "      <td>1.000000</td>\n",
       "      <td>1.000000</td>\n",
       "      <td>2.000000</td>\n",
       "      <td>1.000000</td>\n",
       "      <td>3.000000</td>\n",
       "      <td>1.000000</td>\n",
       "      <td>1.000000</td>\n",
       "      <td>2.000000</td>\n",
       "    </tr>\n",
       "    <tr>\n",
       "      <th>75%</th>\n",
       "      <td>1.238298e+06</td>\n",
       "      <td>6.000000</td>\n",
       "      <td>5.000000</td>\n",
       "      <td>5.000000</td>\n",
       "      <td>4.000000</td>\n",
       "      <td>4.000000</td>\n",
       "      <td>6.000000</td>\n",
       "      <td>5.000000</td>\n",
       "      <td>4.000000</td>\n",
       "      <td>1.000000</td>\n",
       "      <td>4.000000</td>\n",
       "    </tr>\n",
       "    <tr>\n",
       "      <th>max</th>\n",
       "      <td>1.345435e+07</td>\n",
       "      <td>10.000000</td>\n",
       "      <td>10.000000</td>\n",
       "      <td>10.000000</td>\n",
       "      <td>10.000000</td>\n",
       "      <td>10.000000</td>\n",
       "      <td>10.000000</td>\n",
       "      <td>10.000000</td>\n",
       "      <td>10.000000</td>\n",
       "      <td>10.000000</td>\n",
       "      <td>4.000000</td>\n",
       "    </tr>\n",
       "  </tbody>\n",
       "</table>\n",
       "</div>"
      ],
      "text/plain": [
       "        sample_code  sample_thickness  uni_cell_size  uni_cell_shape  \\\n",
       "count  6.990000e+02        699.000000     699.000000      699.000000   \n",
       "mean   1.071704e+06          4.417740       3.134478        3.207439   \n",
       "std    6.170957e+05          2.815741       3.051459        2.971913   \n",
       "min    6.163400e+04          1.000000       1.000000        1.000000   \n",
       "25%    8.706885e+05          2.000000       1.000000        1.000000   \n",
       "50%    1.171710e+06          4.000000       1.000000        1.000000   \n",
       "75%    1.238298e+06          6.000000       5.000000        5.000000   \n",
       "max    1.345435e+07         10.000000      10.000000       10.000000   \n",
       "\n",
       "       marg_adhesion  epi_cell_size      nuclei  bland_chromatin  \\\n",
       "count     699.000000     699.000000  683.000000       699.000000   \n",
       "mean        2.806867       3.216023    3.544656         3.437768   \n",
       "std         2.855379       2.214300    3.643857         2.438364   \n",
       "min         1.000000       1.000000    1.000000         1.000000   \n",
       "25%         1.000000       2.000000    1.000000         2.000000   \n",
       "50%         1.000000       2.000000    1.000000         3.000000   \n",
       "75%         4.000000       4.000000    6.000000         5.000000   \n",
       "max        10.000000      10.000000   10.000000        10.000000   \n",
       "\n",
       "       normal_nucleoli     mitoses  tumor_class  \n",
       "count       699.000000  699.000000   699.000000  \n",
       "mean          2.866953    1.589413     2.689557  \n",
       "std           3.053634    1.715078     0.951273  \n",
       "min           1.000000    1.000000     2.000000  \n",
       "25%           1.000000    1.000000     2.000000  \n",
       "50%           1.000000    1.000000     2.000000  \n",
       "75%           4.000000    1.000000     4.000000  \n",
       "max          10.000000   10.000000     4.000000  "
      ]
     },
     "execution_count": 24,
     "metadata": {},
     "output_type": "execute_result"
    }
   ],
   "source": [
    "wins_data.describe()"
   ]
  },
  {
   "cell_type": "code",
   "execution_count": 25,
   "id": "a15265f2",
   "metadata": {},
   "outputs": [
    {
     "data": {
      "text/html": [
       "<div>\n",
       "<style scoped>\n",
       "    .dataframe tbody tr th:only-of-type {\n",
       "        vertical-align: middle;\n",
       "    }\n",
       "\n",
       "    .dataframe tbody tr th {\n",
       "        vertical-align: top;\n",
       "    }\n",
       "\n",
       "    .dataframe thead th {\n",
       "        text-align: right;\n",
       "    }\n",
       "</style>\n",
       "<table border=\"1\" class=\"dataframe\">\n",
       "  <thead>\n",
       "    <tr style=\"text-align: right;\">\n",
       "      <th></th>\n",
       "      <th>sample_thickness</th>\n",
       "      <th>uni_cell_size</th>\n",
       "      <th>uni_cell_shape</th>\n",
       "      <th>marg_adhesion</th>\n",
       "      <th>epi_cell_size</th>\n",
       "      <th>nuclei</th>\n",
       "      <th>bland_chromatin</th>\n",
       "      <th>normal_nucleoli</th>\n",
       "      <th>mitoses</th>\n",
       "      <th>tumor_class</th>\n",
       "    </tr>\n",
       "  </thead>\n",
       "  <tbody>\n",
       "    <tr>\n",
       "      <th>0</th>\n",
       "      <td>5</td>\n",
       "      <td>1</td>\n",
       "      <td>1</td>\n",
       "      <td>1</td>\n",
       "      <td>2</td>\n",
       "      <td>1.0</td>\n",
       "      <td>3</td>\n",
       "      <td>1</td>\n",
       "      <td>1</td>\n",
       "      <td>2</td>\n",
       "    </tr>\n",
       "    <tr>\n",
       "      <th>1</th>\n",
       "      <td>5</td>\n",
       "      <td>4</td>\n",
       "      <td>4</td>\n",
       "      <td>5</td>\n",
       "      <td>7</td>\n",
       "      <td>10.0</td>\n",
       "      <td>3</td>\n",
       "      <td>2</td>\n",
       "      <td>1</td>\n",
       "      <td>2</td>\n",
       "    </tr>\n",
       "    <tr>\n",
       "      <th>2</th>\n",
       "      <td>3</td>\n",
       "      <td>1</td>\n",
       "      <td>1</td>\n",
       "      <td>1</td>\n",
       "      <td>2</td>\n",
       "      <td>2.0</td>\n",
       "      <td>3</td>\n",
       "      <td>1</td>\n",
       "      <td>1</td>\n",
       "      <td>2</td>\n",
       "    </tr>\n",
       "    <tr>\n",
       "      <th>3</th>\n",
       "      <td>6</td>\n",
       "      <td>8</td>\n",
       "      <td>8</td>\n",
       "      <td>1</td>\n",
       "      <td>3</td>\n",
       "      <td>4.0</td>\n",
       "      <td>3</td>\n",
       "      <td>7</td>\n",
       "      <td>1</td>\n",
       "      <td>2</td>\n",
       "    </tr>\n",
       "    <tr>\n",
       "      <th>4</th>\n",
       "      <td>4</td>\n",
       "      <td>1</td>\n",
       "      <td>1</td>\n",
       "      <td>3</td>\n",
       "      <td>2</td>\n",
       "      <td>1.0</td>\n",
       "      <td>3</td>\n",
       "      <td>1</td>\n",
       "      <td>1</td>\n",
       "      <td>2</td>\n",
       "    </tr>\n",
       "  </tbody>\n",
       "</table>\n",
       "</div>"
      ],
      "text/plain": [
       "   sample_thickness  uni_cell_size  uni_cell_shape  marg_adhesion  \\\n",
       "0                 5              1               1              1   \n",
       "1                 5              4               4              5   \n",
       "2                 3              1               1              1   \n",
       "3                 6              8               8              1   \n",
       "4                 4              1               1              3   \n",
       "\n",
       "   epi_cell_size  nuclei  bland_chromatin  normal_nucleoli  mitoses  \\\n",
       "0              2     1.0                3                1        1   \n",
       "1              7    10.0                3                2        1   \n",
       "2              2     2.0                3                1        1   \n",
       "3              3     4.0                3                7        1   \n",
       "4              2     1.0                3                1        1   \n",
       "\n",
       "   tumor_class  \n",
       "0            2  \n",
       "1            2  \n",
       "2            2  \n",
       "3            2  \n",
       "4            2  "
      ]
     },
     "execution_count": 25,
     "metadata": {},
     "output_type": "execute_result"
    }
   ],
   "source": [
    "wins_data.drop('sample_code', axis=1, inplace=True)\n",
    "wins_data.head(5)"
   ]
  },
  {
   "cell_type": "code",
   "execution_count": 26,
   "id": "ee216734",
   "metadata": {},
   "outputs": [
    {
     "name": "stdout",
     "output_type": "stream",
     "text": [
      "     sample_thickness  uni_cell_size  uni_cell_shape  marg_adhesion  \\\n",
      "23                  8              4               5              1   \n",
      "40                  6              6               6              9   \n",
      "139                 1              1               1              1   \n",
      "145                 1              1               3              1   \n",
      "158                 1              1               2              1   \n",
      "164                 5              1               1              1   \n",
      "235                 3              1               4              1   \n",
      "249                 3              1               1              1   \n",
      "275                 3              1               3              1   \n",
      "292                 8              8               8              1   \n",
      "294                 1              1               1              1   \n",
      "297                 5              4               3              1   \n",
      "315                 4              6               5              6   \n",
      "321                 3              1               1              1   \n",
      "411                 1              1               1              1   \n",
      "617                 1              1               1              1   \n",
      "\n",
      "     epi_cell_size  nuclei  bland_chromatin  normal_nucleoli  mitoses  \\\n",
      "23               2     NaN                7                3        1   \n",
      "40               6     NaN                7                8        1   \n",
      "139              1     NaN                2                1        1   \n",
      "145              2     NaN                2                1        1   \n",
      "158              3     NaN                1                1        1   \n",
      "164              2     NaN                3                1        1   \n",
      "235              2     NaN                3                1        1   \n",
      "249              2     NaN                3                1        1   \n",
      "275              2     NaN                2                1        1   \n",
      "292              2     NaN                6               10        1   \n",
      "294              2     NaN                2                1        1   \n",
      "297              2     NaN                2                3        1   \n",
      "315              7     NaN                4                9        1   \n",
      "321              2     NaN                3                1        1   \n",
      "411              1     NaN                2                1        1   \n",
      "617              1     NaN                1                1        1   \n",
      "\n",
      "     tumor_class  \n",
      "23             4  \n",
      "40             2  \n",
      "139            2  \n",
      "145            2  \n",
      "158            2  \n",
      "164            2  \n",
      "235            2  \n",
      "249            2  \n",
      "275            2  \n",
      "292            4  \n",
      "294            2  \n",
      "297            2  \n",
      "315            2  \n",
      "321            2  \n",
      "411            2  \n",
      "617            2  \n"
     ]
    }
   ],
   "source": [
    "new_winsconsin_headers = ['c_thickness', 'uni_cell_size', 'uni_cell_shape', 'marg_adhesion', 'epi_cell_size', 'nuclei', 'bland_chromatin', 'normal_nucleoli', 'mitoses', 'tumor_class']\n",
    "\n",
    "win_empty_data = wins_data [wins_data.isna().any(axis=1)]\n",
    "print(win_empty_data)"
   ]
  },
  {
   "cell_type": "code",
   "execution_count": 31,
   "id": "ebc2e50b",
   "metadata": {},
   "outputs": [
    {
     "name": "stdout",
     "output_type": "stream",
     "text": [
      "Empty DataFrame\n",
      "Columns: [c_thickness, uni_cell_size, uni_cell_shape, marg_adhesion, epi_cell_size, nuclei, bland_chromatin, normal_nucleoli, mitoses, tumor_class]\n",
      "Index: []\n"
     ]
    }
   ],
   "source": [
    "from sklearn.impute import SimpleImputer\n",
    "new_winconsin_headers = ['c_thickness', 'uni_cell_size', 'uni_cell_shape', 'marg_adhesion', 'epi_cell_size', 'nuclei', 'bland_chromatin', 'normal_nucleoli', 'mitoses', 'tumor_class']\n",
    "imputer = SimpleImputer(strategy='mean')\n",
    "imputer.fit (wins_data)\n",
    "new_data = imputer.transform(wins_data)\n",
    "wins_data = pd.DataFrame(new_data, columns = new_winconsin_headers)\n",
    "\n",
    "win_empty_data = wins_data[wins_data.isna().any(axis=1)]\n",
    "print(win_empty_data)"
   ]
  },
  {
   "cell_type": "code",
   "execution_count": 32,
   "id": "626b67ee",
   "metadata": {},
   "outputs": [],
   "source": [
    "# Missing values replaced - new headers too"
   ]
  },
  {
   "cell_type": "code",
   "execution_count": 34,
   "id": "44b053ce",
   "metadata": {},
   "outputs": [
    {
     "data": {
      "image/png": "[encoded data removed]",
      "text/plain": [
       "<Figure size 640x480 with 12 Axes>"
      ]
     },
     "metadata": {},
     "output_type": "display_data"
    }
   ],
   "source": [
    "from matplotlib import pyplot\n",
    "wins_data.hist()\n",
    "pyplot.show()"
   ]
  },
  {
   "cell_type": "code",
   "execution_count": 35,
   "id": "899fbb40",
   "metadata": {},
   "outputs": [],
   "source": [
    "# Shows distrubition between variables"
   ]
  },
  {
   "cell_type": "code",
   "execution_count": 40,
   "id": "c4d63e07",
   "metadata": {},
   "outputs": [
    {
     "data": {
      "image/png": "[encoded data removed]",
      "text/plain": [
       "<Figure size 640x480 with 2 Axes>"
      ]
     },
     "metadata": {},
     "output_type": "display_data"
    }
   ],
   "source": [
    "wins_data_correlations = wins_data.corr()\n",
    "corr_fig = pyplot.figure()\n",
    "axises = corr_fig.add_subplot(111)\n",
    "axcorr = axises.matshow(wins_data_correlations, vmin=-1, vmax=1)\n",
    "\n",
    "corr_fig.colorbar(axcorr)\n",
    "ticks = np.arange(0,10,1)\n",
    "\n",
    "axises.set_xticks(ticks)\n",
    "axises.set_yticks(ticks)\n",
    "axises.set_xticklabels(new_winconsin_headers)\n",
    "axises.set_yticklabels(new_winconsin_headers)\n",
    "pyplot.show()"
   ]
  },
  {
   "cell_type": "code",
   "execution_count": 41,
   "id": "ae0d1219",
   "metadata": {},
   "outputs": [],
   "source": [
    "# Checking for correlation"
   ]
  },
  {
   "cell_type": "code",
   "execution_count": 42,
   "id": "f3e8f2e1",
   "metadata": {},
   "outputs": [
    {
     "name": "stdout",
     "output_type": "stream",
     "text": [
      "(699,)\n",
      "(699, 9)\n"
     ]
    }
   ],
   "source": [
    "from sklearn.model_selection import train_test_split\n",
    "y = wins_data.pop('tumor_class')\n",
    "X = wins_data\n",
    "\n",
    "print(y.shape)\n",
    "print(X.shape)"
   ]
  },
  {
   "cell_type": "code",
   "execution_count": 43,
   "id": "7b937d3d",
   "metadata": {},
   "outputs": [
    {
     "data": {
      "text/html": [
       "<div>\n",
       "<style scoped>\n",
       "    .dataframe tbody tr th:only-of-type {\n",
       "        vertical-align: middle;\n",
       "    }\n",
       "\n",
       "    .dataframe tbody tr th {\n",
       "        vertical-align: top;\n",
       "    }\n",
       "\n",
       "    .dataframe thead th {\n",
       "        text-align: right;\n",
       "    }\n",
       "</style>\n",
       "<table border=\"1\" class=\"dataframe\">\n",
       "  <thead>\n",
       "    <tr style=\"text-align: right;\">\n",
       "      <th></th>\n",
       "      <th>c_thickness</th>\n",
       "      <th>uni_cell_size</th>\n",
       "      <th>uni_cell_shape</th>\n",
       "      <th>marg_adhesion</th>\n",
       "      <th>epi_cell_size</th>\n",
       "      <th>nuclei</th>\n",
       "      <th>bland_chromatin</th>\n",
       "      <th>normal_nucleoli</th>\n",
       "      <th>mitoses</th>\n",
       "    </tr>\n",
       "  </thead>\n",
       "  <tbody>\n",
       "    <tr>\n",
       "      <th>0</th>\n",
       "      <td>5.0</td>\n",
       "      <td>1.0</td>\n",
       "      <td>1.0</td>\n",
       "      <td>1.0</td>\n",
       "      <td>2.0</td>\n",
       "      <td>1.0</td>\n",
       "      <td>3.0</td>\n",
       "      <td>1.0</td>\n",
       "      <td>1.0</td>\n",
       "    </tr>\n",
       "    <tr>\n",
       "      <th>1</th>\n",
       "      <td>5.0</td>\n",
       "      <td>4.0</td>\n",
       "      <td>4.0</td>\n",
       "      <td>5.0</td>\n",
       "      <td>7.0</td>\n",
       "      <td>10.0</td>\n",
       "      <td>3.0</td>\n",
       "      <td>2.0</td>\n",
       "      <td>1.0</td>\n",
       "    </tr>\n",
       "    <tr>\n",
       "      <th>2</th>\n",
       "      <td>3.0</td>\n",
       "      <td>1.0</td>\n",
       "      <td>1.0</td>\n",
       "      <td>1.0</td>\n",
       "      <td>2.0</td>\n",
       "      <td>2.0</td>\n",
       "      <td>3.0</td>\n",
       "      <td>1.0</td>\n",
       "      <td>1.0</td>\n",
       "    </tr>\n",
       "    <tr>\n",
       "      <th>3</th>\n",
       "      <td>6.0</td>\n",
       "      <td>8.0</td>\n",
       "      <td>8.0</td>\n",
       "      <td>1.0</td>\n",
       "      <td>3.0</td>\n",
       "      <td>4.0</td>\n",
       "      <td>3.0</td>\n",
       "      <td>7.0</td>\n",
       "      <td>1.0</td>\n",
       "    </tr>\n",
       "    <tr>\n",
       "      <th>4</th>\n",
       "      <td>4.0</td>\n",
       "      <td>1.0</td>\n",
       "      <td>1.0</td>\n",
       "      <td>3.0</td>\n",
       "      <td>2.0</td>\n",
       "      <td>1.0</td>\n",
       "      <td>3.0</td>\n",
       "      <td>1.0</td>\n",
       "      <td>1.0</td>\n",
       "    </tr>\n",
       "    <tr>\n",
       "      <th>...</th>\n",
       "      <td>...</td>\n",
       "      <td>...</td>\n",
       "      <td>...</td>\n",
       "      <td>...</td>\n",
       "      <td>...</td>\n",
       "      <td>...</td>\n",
       "      <td>...</td>\n",
       "      <td>...</td>\n",
       "      <td>...</td>\n",
       "    </tr>\n",
       "    <tr>\n",
       "      <th>694</th>\n",
       "      <td>3.0</td>\n",
       "      <td>1.0</td>\n",
       "      <td>1.0</td>\n",
       "      <td>1.0</td>\n",
       "      <td>3.0</td>\n",
       "      <td>2.0</td>\n",
       "      <td>1.0</td>\n",
       "      <td>1.0</td>\n",
       "      <td>1.0</td>\n",
       "    </tr>\n",
       "    <tr>\n",
       "      <th>695</th>\n",
       "      <td>2.0</td>\n",
       "      <td>1.0</td>\n",
       "      <td>1.0</td>\n",
       "      <td>1.0</td>\n",
       "      <td>2.0</td>\n",
       "      <td>1.0</td>\n",
       "      <td>1.0</td>\n",
       "      <td>1.0</td>\n",
       "      <td>1.0</td>\n",
       "    </tr>\n",
       "    <tr>\n",
       "      <th>696</th>\n",
       "      <td>5.0</td>\n",
       "      <td>10.0</td>\n",
       "      <td>10.0</td>\n",
       "      <td>3.0</td>\n",
       "      <td>7.0</td>\n",
       "      <td>3.0</td>\n",
       "      <td>8.0</td>\n",
       "      <td>10.0</td>\n",
       "      <td>2.0</td>\n",
       "    </tr>\n",
       "    <tr>\n",
       "      <th>697</th>\n",
       "      <td>4.0</td>\n",
       "      <td>8.0</td>\n",
       "      <td>6.0</td>\n",
       "      <td>4.0</td>\n",
       "      <td>3.0</td>\n",
       "      <td>4.0</td>\n",
       "      <td>10.0</td>\n",
       "      <td>6.0</td>\n",
       "      <td>1.0</td>\n",
       "    </tr>\n",
       "    <tr>\n",
       "      <th>698</th>\n",
       "      <td>4.0</td>\n",
       "      <td>8.0</td>\n",
       "      <td>8.0</td>\n",
       "      <td>5.0</td>\n",
       "      <td>4.0</td>\n",
       "      <td>5.0</td>\n",
       "      <td>10.0</td>\n",
       "      <td>4.0</td>\n",
       "      <td>1.0</td>\n",
       "    </tr>\n",
       "  </tbody>\n",
       "</table>\n",
       "<p>699 rows × 9 columns</p>\n",
       "</div>"
      ],
      "text/plain": [
       "     c_thickness  uni_cell_size  uni_cell_shape  marg_adhesion  epi_cell_size  \\\n",
       "0            5.0            1.0             1.0            1.0            2.0   \n",
       "1            5.0            4.0             4.0            5.0            7.0   \n",
       "2            3.0            1.0             1.0            1.0            2.0   \n",
       "3            6.0            8.0             8.0            1.0            3.0   \n",
       "4            4.0            1.0             1.0            3.0            2.0   \n",
       "..           ...            ...             ...            ...            ...   \n",
       "694          3.0            1.0             1.0            1.0            3.0   \n",
       "695          2.0            1.0             1.0            1.0            2.0   \n",
       "696          5.0           10.0            10.0            3.0            7.0   \n",
       "697          4.0            8.0             6.0            4.0            3.0   \n",
       "698          4.0            8.0             8.0            5.0            4.0   \n",
       "\n",
       "     nuclei  bland_chromatin  normal_nucleoli  mitoses  \n",
       "0       1.0              3.0              1.0      1.0  \n",
       "1      10.0              3.0              2.0      1.0  \n",
       "2       2.0              3.0              1.0      1.0  \n",
       "3       4.0              3.0              7.0      1.0  \n",
       "4       1.0              3.0              1.0      1.0  \n",
       "..      ...              ...              ...      ...  \n",
       "694     2.0              1.0              1.0      1.0  \n",
       "695     1.0              1.0              1.0      1.0  \n",
       "696     3.0              8.0             10.0      2.0  \n",
       "697     4.0             10.0              6.0      1.0  \n",
       "698     5.0             10.0              4.0      1.0  \n",
       "\n",
       "[699 rows x 9 columns]"
      ]
     },
     "execution_count": 43,
     "metadata": {},
     "output_type": "execute_result"
    }
   ],
   "source": [
    "X"
   ]
  },
  {
   "cell_type": "code",
   "execution_count": 44,
   "id": "9c8bedff",
   "metadata": {},
   "outputs": [
    {
     "data": {
      "text/plain": [
       "0      2.0\n",
       "1      2.0\n",
       "2      2.0\n",
       "3      2.0\n",
       "4      2.0\n",
       "      ... \n",
       "694    2.0\n",
       "695    2.0\n",
       "696    4.0\n",
       "697    4.0\n",
       "698    4.0\n",
       "Name: tumor_class, Length: 699, dtype: float64"
      ]
     },
     "execution_count": 44,
     "metadata": {},
     "output_type": "execute_result"
    }
   ],
   "source": [
    "y"
   ]
  },
  {
   "cell_type": "code",
   "execution_count": 45,
   "id": "9da4fdb3",
   "metadata": {},
   "outputs": [],
   "source": [
    "X_train, X_test, y_train, y_test = train_test_split(X, y, test_size=0.4, random_state=1)"
   ]
  },
  {
   "cell_type": "code",
   "execution_count": 46,
   "id": "a22dd8ec",
   "metadata": {},
   "outputs": [
    {
     "name": "stdout",
     "output_type": "stream",
     "text": [
      "\n",
      " Total of training test (419, 9)\n",
      "\n",
      " Total of test test (280, 9)\n"
     ]
    }
   ],
   "source": [
    "print('\\n Total of training test', X_train.shape)\n",
    "print('\\n Total of test test', X_test.shape)"
   ]
  },
  {
   "cell_type": "code",
   "execution_count": 47,
   "id": "9044772c",
   "metadata": {},
   "outputs": [
    {
     "ename": "SyntaxError",
     "evalue": "invalid syntax (60449675.py, line 1)",
     "output_type": "error",
     "traceback": [
      "\u001b[1;36m  File \u001b[1;32m\"C:\\Users\\Kurtj\\AppData\\Local\\Temp\\ipykernel_7072\\60449675.py\"\u001b[1;36m, line \u001b[1;32m1\u001b[0m\n\u001b[1;33m    sklearn.tree import DecisionTreeClassifier\u001b[0m\n\u001b[1;37m                 ^\u001b[0m\n\u001b[1;31mSyntaxError\u001b[0m\u001b[1;31m:\u001b[0m invalid syntax\n"
     ]
    }
   ],
   "source": [
    "sklearn.tree import DecisionTreeClassifier"
   ]
  },
  {
   "cell_type": "code",
   "execution_count": 48,
   "id": "84e968fd",
   "metadata": {},
   "outputs": [],
   "source": [
    "from sklearn.tree import DecisionTreeClassifier"
   ]
  },
  {
   "cell_type": "code",
   "execution_count": 50,
   "id": "771f7e56",
   "metadata": {},
   "outputs": [
    {
     "name": "stdout",
     "output_type": "stream",
     "text": [
      "[2. 2. 2. 2. 2. 2. 4. 2. 2. 2. 4. 4. 2. 4. 4. 4. 2. 2. 2. 2. 2. 2. 4. 2.\n",
      " 4. 2. 4. 4. 2. 2. 2. 4. 4. 4. 4. 2. 2. 4. 2. 2. 2. 2. 2. 2. 2. 4. 2. 2.\n",
      " 2. 2. 2. 2. 4. 2. 4. 2. 4. 2. 2. 2. 2. 2. 2. 2. 2. 2. 2. 4. 2. 2. 2. 2.\n",
      " 2. 2. 4. 4. 2. 2. 2. 2. 4. 2. 2. 4. 2. 2. 2. 4. 4. 2. 4. 4. 2. 2. 2. 4.\n",
      " 2. 2. 2. 2. 2. 4. 4. 2. 2. 4. 4. 2. 4. 2. 4. 2. 2. 2. 2. 2. 2. 2. 2. 2.\n",
      " 2. 4. 4. 4. 2. 4. 2. 4. 2. 2. 2. 4. 4. 2. 4. 2. 2. 2. 4. 4. 2. 2. 2. 4.\n",
      " 2. 2. 2. 4. 2. 2. 2. 2. 2. 2. 2. 2. 2. 2. 2. 2. 2. 4. 2. 2. 4. 4. 2. 2.\n",
      " 2. 2. 2. 2. 4. 2. 2. 2. 4. 4. 2. 4. 4. 2. 2. 2. 2. 4. 2. 2. 4. 2. 2. 2.\n",
      " 2. 4. 2. 4. 4. 4. 4. 2. 2. 2. 2. 2. 4. 4. 4. 2. 2. 2. 4. 2. 4. 2. 4. 2.\n",
      " 2. 2. 2. 2. 4. 2. 2. 2. 2. 2. 2. 2. 2. 2. 2. 4. 2. 2. 2. 2. 2. 4. 2. 4.\n",
      " 2. 4. 4. 2. 2. 4. 4. 2. 2. 2. 2. 2. 2. 2. 4. 4. 2. 2. 4. 4. 2. 4. 2. 2.\n",
      " 2. 2. 4. 2. 4. 2. 2. 4. 2. 2. 4. 2. 2. 2. 4. 2.]\n"
     ]
    }
   ],
   "source": [
    "my_model = DecisionTreeClassifier()\n",
    "my_model.fit(X_train, y_train)\n",
    "y_pred = my_model.predict(X_test)\n",
    "print(y_pred)"
   ]
  },
  {
   "cell_type": "code",
   "execution_count": 53,
   "id": "a64392d9",
   "metadata": {},
   "outputs": [
    {
     "name": "stdout",
     "output_type": "stream",
     "text": [
      "[4.]\n"
     ]
    },
    {
     "name": "stderr",
     "output_type": "stream",
     "text": [
      "C:\\Users\\Kurtj\\anaconda3\\lib\\site-packages\\sklearn\\base.py:450: UserWarning: X does not have valid feature names, but DecisionTreeClassifier was fitted with feature names\n",
      "  warnings.warn(\n"
     ]
    }
   ],
   "source": [
    "pred_one = my_model.predict(X=[[5.0, 5.0, 5.0, 5.0, 5.0, 10.0, 3.0, 2.0, 1.0]])\n",
    "print(pred_one)"
   ]
  },
  {
   "cell_type": "code",
   "execution_count": 54,
   "id": "9c8cf098",
   "metadata": {},
   "outputs": [],
   "source": [
    "from sklearn.metrics import accuracy_score, classification_report, confusion_matrix"
   ]
  },
  {
   "cell_type": "code",
   "execution_count": 56,
   "id": "cc75edb6",
   "metadata": {},
   "outputs": [
    {
     "name": "stdout",
     "output_type": "stream",
     "text": [
      "Model accuracy on Test Data: 0.92 \n",
      "\n",
      "Confusion Matrix: \n",
      " [[179   8]\n",
      " [ 15  78]] \n",
      "\n",
      "Classification \n",
      "               precision    recall  f1-score   support\n",
      "\n",
      "         2.0       0.92      0.96      0.94       187\n",
      "         4.0       0.91      0.84      0.87        93\n",
      "\n",
      "    accuracy                           0.92       280\n",
      "   macro avg       0.91      0.90      0.91       280\n",
      "weighted avg       0.92      0.92      0.92       280\n",
      "\n"
     ]
    }
   ],
   "source": [
    "model_accuracy = accuracy_score(y_test, y_pred)\n",
    "print(\"Model accuracy on Test Data: {:.2f}\".format(model_accuracy), '\\n')\n",
    "matrix_info = confusion_matrix(y_test, y_pred)\n",
    "print(\"Confusion Matrix: \\n\", matrix_info, '\\n')\n",
    "class_report = classification_report(y_test, y_pred)\n",
    "print(\"Classification \\n\", class_report)"
   ]
  },
  {
   "cell_type": "code",
   "execution_count": null,
   "id": "c956f0e6",
   "metadata": {},
   "outputs": [],
   "source": []
  }
 ],
 "metadata": {
  "kernelspec": {
   "display_name": "Python 3 (ipykernel)",
   "language": "python",
   "name": "python3"
  },
  "language_info": {
   "codemirror_mode": {
    "name": "ipython",
    "version": 3
   },
   "file_extension": ".py",
   "mimetype": "text/x-python",
   "name": "python",
   "nbconvert_exporter": "python",
   "pygments_lexer": "ipython3",
   "version": "3.9.13"
  }
 },
 "nbformat": 4,
 "nbformat_minor": 5
}
