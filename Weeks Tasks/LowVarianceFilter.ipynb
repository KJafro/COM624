{
 "cells": [
  {
   "cell_type": "code",
   "execution_count": 16,
   "id": "2b69370f",
   "metadata": {},
   "outputs": [],
   "source": [
    "import numpy as np\n",
    "import pandas as pd\n",
    "from pandas import read_csv\n",
    "from numpy import set_printoptions\n",
    "from sklearn import preprocessing\n",
    "from sklearn.impute import SimpleImputer\n",
    "\n",
    "header_names = ['preg', 'plas', 'pres', 'skin', 'test', 'mass', 'pedi', 'age', 'class']\n",
    "my_data = read_csv(\"C:/dataset/pima_indians_diabetes_2.csv\", names=header_names)"
   ]
  },
  {
   "cell_type": "code",
   "execution_count": 6,
   "id": "34b95a8f",
   "metadata": {},
   "outputs": [
    {
     "name": "stdout",
     "output_type": "stream",
     "text": [
      "(771, 9)\n"
     ]
    }
   ],
   "source": [
    "print(my_data.shape)"
   ]
  },
  {
   "cell_type": "code",
   "execution_count": 7,
   "id": "9ec323fc",
   "metadata": {},
   "outputs": [
    {
     "name": "stdout",
     "output_type": "stream",
     "text": [
      "     preg   plas  pres  skin  test  mass   pedi   age  class\n",
      "440     2  120.0   NaN    26  16.0  36.8  0.766  22.0      0\n",
      "661     2  120.0  58.0    26  16.0   NaN  0.766  22.0      0\n",
      "770     2    NaN  58.0    26   NaN  28.4  0.766   NaN      0\n",
      "3\n"
     ]
    }
   ],
   "source": [
    "empty_value_data = my_data[my_data.isna().any(axis=1)]\n",
    "print(empty_value_data)\n",
    "print(len(empty_value_data))"
   ]
  },
  {
   "cell_type": "code",
   "execution_count": 14,
   "id": "e31c0d5e",
   "metadata": {},
   "outputs": [
    {
     "name": "stderr",
     "output_type": "stream",
     "text": [
      "C:\\Users\\Kurtj\\anaconda3\\lib\\site-packages\\sklearn\\impute\\_base.py:49: FutureWarning: Unlike other reduction functions (e.g. `skew`, `kurtosis`), the default behavior of `mode` typically preserves the axis it acts along. In SciPy 1.11.0, this behavior will change: the default value of `keepdims` will become False, the `axis` over which the statistic is taken will be eliminated, and the value None will no longer be accepted. Set `keepdims` to True or False to avoid this warning.\n",
      "  mode = stats.mode(array)\n"
     ]
    }
   ],
   "source": [
    "imputer = SimpleImputer(strategy='most_frequent')\n",
    "imputer.fit(my_data)\n",
    "my_new_data = imputer.transform(my_data)"
   ]
  },
  {
   "cell_type": "code",
   "execution_count": 18,
   "id": "6cec22cb",
   "metadata": {},
   "outputs": [],
   "source": [
    "my_data = pd.DataFrame(my_new_data, columns=header_names)"
   ]
  },
  {
   "cell_type": "code",
   "execution_count": 19,
   "id": "1524c9db",
   "metadata": {},
   "outputs": [
    {
     "name": "stdout",
     "output_type": "stream",
     "text": [
      "Missing Ratio preg     0.0\n",
      "plas     0.0\n",
      "pres     0.0\n",
      "skin     0.0\n",
      "test     0.0\n",
      "mass     0.0\n",
      "pedi     0.0\n",
      "age      0.0\n",
      "class    0.0\n",
      "dtype: float64\n"
     ]
    }
   ],
   "source": [
    "miss_ratio = my_data.isnull().sum()/len(my_data)*100\n",
    "print('Missing Ratio', miss_ratio)"
   ]
  },
  {
   "cell_type": "code",
   "execution_count": 20,
   "id": "e48ab4b6",
   "metadata": {},
   "outputs": [],
   "source": [
    "diab_data = pd.DataFrame(my_data, columns=header_names)"
   ]
  },
  {
   "cell_type": "code",
   "execution_count": 21,
   "id": "81f719e3",
   "metadata": {},
   "outputs": [],
   "source": [
    "data_variance = diab_data.var()"
   ]
  },
  {
   "cell_type": "code",
   "execution_count": 22,
   "id": "653a13a4",
   "metadata": {},
   "outputs": [
    {
     "name": "stdout",
     "output_type": "stream",
     "text": [
      "The Data Variance is:  preg        11.323031\n",
      "plas      1018.889221\n",
      "pres       373.508222\n",
      "skin       253.597638\n",
      "test     13248.205239\n",
      "mass        61.964576\n",
      "pedi         0.109687\n",
      "age        138.254589\n",
      "class        0.227069\n",
      "dtype: float64\n"
     ]
    }
   ],
   "source": [
    "print('The Data Variance is: ', data_variance)"
   ]
  },
  {
   "cell_type": "code",
   "execution_count": 23,
   "id": "9399729f",
   "metadata": {},
   "outputs": [],
   "source": [
    "diab_data = diab_data.columns\n",
    "varlab = []"
   ]
  },
  {
   "cell_type": "code",
   "execution_count": 25,
   "id": "1c8dc038",
   "metadata": {},
   "outputs": [],
   "source": [
    "for i in range(0,len(data_variance)):\n",
    "    if data_variance[i]>=10000:\n",
    "        varlab.append(diab_data[i*1])"
   ]
  },
  {
   "cell_type": "code",
   "execution_count": 26,
   "id": "659d3555",
   "metadata": {},
   "outputs": [
    {
     "name": "stdout",
     "output_type": "stream",
     "text": [
      "['test']\n"
     ]
    }
   ],
   "source": [
    "print(varlab)"
   ]
  },
  {
   "cell_type": "code",
   "execution_count": null,
   "id": "a40a19ed",
   "metadata": {},
   "outputs": [],
   "source": []
  }
 ],
 "metadata": {
  "kernelspec": {
   "display_name": "Python 3 (ipykernel)",
   "language": "python",
   "name": "python3"
  },
  "language_info": {
   "codemirror_mode": {
    "name": "ipython",
    "version": 3
   },
   "file_extension": ".py",
   "mimetype": "text/x-python",
   "name": "python",
   "nbconvert_exporter": "python",
   "pygments_lexer": "ipython3",
   "version": "3.9.13"
  }
 },
 "nbformat": 4,
 "nbformat_minor": 5
}
